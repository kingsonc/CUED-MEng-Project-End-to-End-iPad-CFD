{
 "metadata": {
  "language_info": {
   "codemirror_mode": {
    "name": "ipython",
    "version": 3
   },
   "file_extension": ".py",
   "mimetype": "text/x-python",
   "name": "python",
   "nbconvert_exporter": "python",
   "pygments_lexer": "ipython3",
   "version": "3.8.3"
  },
  "orig_nbformat": 2,
  "kernelspec": {
   "name": "python383jvsc74a57bd0dc9bf760c3ace50384af7131c7cbafc5b8249359af30dba039029250b337e3a4",
   "display_name": "Python 3.8.3 64-bit ('venv-fyp': pyenv)"
  },
  "metadata": {
   "interpreter": {
    "hash": "dc9bf760c3ace50384af7131c7cbafc5b8249359af30dba039029250b337e3a4"
   }
  }
 },
 "nbformat": 4,
 "nbformat_minor": 2,
 "cells": [
  {
   "cell_type": "code",
   "execution_count": null,
   "metadata": {},
   "outputs": [],
   "source": [
    "import math\n",
    "import numpy as np\n",
    "import matplotlib.pyplot as plt\n",
    "from mpl_toolkits.mplot3d import Axes3D"
   ]
  },
  {
   "cell_type": "code",
   "execution_count": null,
   "metadata": {},
   "outputs": [],
   "source": [
    "def shape_space_basis_func(x, n):\n",
    "    \"\"\"Shape space basis function. Shape space and class functions combined.\"\"\"\n",
    "    return [math.comb(n, i) * x**(i+0.5) * (1-x)**(n-i+1) for i in range(n+1)]\n",
    "\n",
    "\n",
    "def shape_space_thickness(psi, n, A):\n",
    "    \"\"\"Theoretical surface generated using shape space parameters A.\"\"\"\n",
    "    return np.dot(A, shape_space_basis_func(psi, n))\n",
    "\n",
    "\n",
    "def shape_space_coords(upper_coeffs, lower_coeffs, sample_points=10):\n",
    "    \"\"\"Generate aerofoil shape from shape space coefficients\"\"\"\n",
    "    polynomial_order = len(upper_coeffs) - 1\n",
    "\n",
    "    x = np.linspace(0, 1, sample_points)\n",
    "    upper_coords = [shape_space_thickness(v, polynomial_order, upper_coeffs) for v in x]\n",
    "    lower_coords = [shape_space_thickness(v, polynomial_order, lower_coeffs) for v in x]\n",
    "\n",
    "    upper_coords = list(zip(x, upper_coords))  # type: ignore\n",
    "    lower_coords = list(zip(x, lower_coords))  # type: ignore\n",
    "\n",
    "    # trailing edge -> upper surface -> leading edge -> lower surface -> trailing edge\n",
    "    coords = upper_coords[::-1] + lower_coords[1:]\n",
    "\n",
    "    return coords, upper_coords, lower_coords  # type: ignore\n",
    "\n",
    "\n",
    "def aerofoil_mesh(upper_surface_coeffs, lower_surface_coeffs, height=1):\n",
    "    coords, upper_coords, lower_coords = shape_space_coords(upper_surface_coeffs, lower_surface_coeffs)\n",
    "\n",
    "    span_vertices = []\n",
    "    top_vertices = []\n",
    "\n",
    "    # spanwise\n",
    "    for i in range(len(coords) - 1):\n",
    "        span_vertices.extend(\n",
    "            [\n",
    "                (*coords[i], height),  # 0\n",
    "                (*coords[i], 0),  # 1\n",
    "                (*coords[i + 1], height),  # 3\n",
    "                (*coords[i], height),  # 0\n",
    "                (*coords[i + 1], height),  # 3\n",
    "                (*coords[i], 0),  # 1\n",
    "                (*coords[i + 1], 0),  # 2\n",
    "                (*coords[i + 1], height),  # 3\n",
    "            ],\n",
    "        )\n",
    "\n",
    "    # top surface\n",
    "    for i in range(len(upper_coords) - 1):\n",
    "        top_vertices.extend(\n",
    "            [\n",
    "                (*upper_coords[i], height),  # 0\n",
    "                (*lower_coords[i], height),  # 1\n",
    "                (*upper_coords[i + 1], height),  # 3\n",
    "                (*upper_coords[i], height),  # 0\n",
    "                (*upper_coords[i + 1], height),  # 3\n",
    "                (*lower_coords[i], height),  # 1\n",
    "                (*lower_coords[i + 1], height),  # 2\n",
    "                (*upper_coords[i + 1], height),  # 3\n",
    "            ],\n",
    "        )\n",
    "\n",
    "    return span_vertices, top_vertices"
   ]
  },
  {
   "cell_type": "code",
   "execution_count": null,
   "metadata": {},
   "outputs": [],
   "source": [
    "upper_surface_coeffs = [0.1679916, 0.15851636, 0.1313818, 0.15751629]\n",
    "lower_surface_coeffs = [-0.1679916, -0.15851636, -0.1313818, -0.15751629]\n",
    "\n",
    "span_vertices, top_vertices = aerofoil_mesh(upper_surface_coeffs, lower_surface_coeffs)\n",
    "\n",
    "span_vertices = np.array(span_vertices)\n",
    "top_vertices = np.array(top_vertices)"
   ]
  },
  {
   "cell_type": "code",
   "execution_count": null,
   "metadata": {},
   "outputs": [],
   "source": [
    "plt.rcParams.update({'font.size': 22})\n",
    "\n",
    "fig = plt.figure(figsize=(20,20))\n",
    "ax  = fig.add_subplot(111, projection = '3d')\n",
    "\n",
    "zipped_span = list(zip(span_vertices, np.roll(span_vertices,1, axis=0)))\n",
    "zipped_top = list(zip(top_vertices, np.roll(top_vertices,1, axis=0)))\n",
    "\n",
    "for i,j in zipped_span:\n",
    "    ax.plot([i[0],j[0]], [i[1],j[1]], [i[2],j[2]],color = 'k')\n",
    "\n",
    "for i,j in zipped_top[1:]:\n",
    "    ax.plot([i[0],j[0]], [i[1],j[1]], [i[2],j[2]],color = 'k')\n",
    "\n",
    "ax.scatter(coords[:,0], coords[:,1], coords[:,2], color = 'b', marker = \"o\")\n",
    "\n",
    "\n",
    "# force equal axis\n",
    "max_range = 1\n",
    "Xb = 0.5*max_range*np.mgrid[-1:2:2,-1:2:2,-1:2:2][0].flatten() + 0.5*(1)\n",
    "Yb = 0.5*max_range*np.mgrid[-1:2:2,-1:2:2,-1:2:2][1].flatten() + 0.5*(0.2)\n",
    "Zb = 0.5*max_range*np.mgrid[-1:2:2,-1:2:2,-1:2:2][2].flatten() + 0.5*(1)\n",
    "for xb, yb, zb in zip(Xb, Yb, Zb):\n",
    "   ax.plot([xb], [yb], [zb], 'w')\n",
    "\n",
    "plt.show()"
   ]
  },
  {
   "cell_type": "code",
   "execution_count": null,
   "metadata": {},
   "outputs": [],
   "source": []
  }
 ]
}